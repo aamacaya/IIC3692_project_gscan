{
 "cells": [
  {
   "cell_type": "code",
   "execution_count": 1,
   "metadata": {},
   "outputs": [],
   "source": [
    "import json\n",
    "import numpy as np\n",
    "from typing import Dict, List, Union\n",
    "import logging\n",
    "import argparse\n",
    "import copy"
   ]
  },
  {
   "cell_type": "code",
   "execution_count": 2,
   "metadata": {},
   "outputs": [],
   "source": [
    "logger = logging.getLogger(__name__)\n",
    "\n",
    "def data_loader(file_path: str) -> Dict[str, Union[List[str], np.ndarray]]:\n",
    "    \"\"\"\n",
    "    Loads grounded SCAN dataset from text file and ..\n",
    "    :param file_path: Full path to file containing dataset (dataset.txt)\n",
    "    :returns: dict with as keys all splits and values list of example dicts with input, target and situation.\n",
    "    \"\"\"\n",
    "    with open(file_path, 'r') as infile:\n",
    "        all_data = json.load(infile)\n",
    "        grid_size = int(all_data[\"grid_size\"])\n",
    "        splits = list(all_data[\"examples\"].keys())\n",
    "        print(\"Found data splits: {}\".format(splits))\n",
    "        '''loaded_data = {}\n",
    "        for split in splits:\n",
    "            loaded_data[split] = []\n",
    "            logger.info(\"Now loading data for split: {}\".format(split))\n",
    "            for data_example in all_data[\"examples\"][split]:\n",
    "                input_command = data_example[\"command\"].split(',')\n",
    "                target_command = data_example[\"target_commands\"].split(',')\n",
    "                situation = parse_sparse_situation(situation_representation=data_example[\"situation\"],\n",
    "                                                   grid_size=grid_size)\n",
    "                loaded_data[split].append({\"input\": input_command,\n",
    "                                           \"target\": target_command,\n",
    "                                           \"situation\": situation.tolist()})  # .tolist() necessary to be serializable\n",
    "            logger.info(\"Loaded {} examples in split {}.\\n\".format(len(loaded_data[split]), split))'''\n",
    "    return all_data"
   ]
  },
  {
   "cell_type": "code",
   "execution_count": 3,
   "metadata": {},
   "outputs": [
    {
     "name": "stdout",
     "output_type": "stream",
     "text": [
      "Found data splits: ['train', 'dev', 'test', 'visual', 'situational_1', 'situational_2', 'contextual', 'adverb_1', 'adverb_2', 'visual_easier']\n"
     ]
    }
   ],
   "source": [
    "dataset = data_loader('./data/compositional_splits/dataset.txt')"
   ]
  },
  {
   "cell_type": "code",
   "execution_count": 4,
   "metadata": {},
   "outputs": [],
   "source": [
    "splits = list(dataset[\"examples\"].keys())"
   ]
  },
  {
   "cell_type": "code",
   "execution_count": 5,
   "metadata": {},
   "outputs": [
    {
     "name": "stdout",
     "output_type": "stream",
     "text": [
      "dict_keys(['grid_size', 'type_grammar', 'grammar', 'min_object_size', 'max_object_size', 'max_recursion', 'percentage_train', 'examples', 'intransitive_verbs', 'transitive_verbs', 'nouns', 'adverbs', 'color_adjectives', 'size_adjectives'])\n"
     ]
    }
   ],
   "source": [
    "print(dataset.keys())"
   ]
  },
  {
   "cell_type": "code",
   "execution_count": 6,
   "metadata": {},
   "outputs": [
    {
     "name": "stdout",
     "output_type": "stream",
     "text": [
      "dict_keys(['train', 'dev', 'test', 'visual', 'situational_1', 'situational_2', 'contextual', 'adverb_1', 'adverb_2', 'visual_easier'])\n"
     ]
    }
   ],
   "source": [
    "print(dataset[\"examples\"].keys())"
   ]
  },
  {
   "cell_type": "markdown",
   "metadata": {},
   "source": [
    "# Test dataset (same as paper)"
   ]
  },
  {
   "cell_type": "code",
   "execution_count": 7,
   "metadata": {},
   "outputs": [
    {
     "name": "stdout",
     "output_type": "stream",
     "text": [
      "Examples: 16808\n",
      "Size2 Reffered as \"big\": 0\n",
      "Size2 Reffered as \"small\": 16808\n"
     ]
    }
   ],
   "source": [
    "test = dataset[\"examples\"][\"situational_2\"]\n",
    "\n",
    "#Info \n",
    "big = 0\n",
    "small = 0\n",
    "for example in test:\n",
    "    if example[\"situation\"][\"target_object\"]['object']['shape'] == 'circle':\n",
    "        if example[\"situation\"][\"target_object\"]['object']['size'] == '2':\n",
    "            if example[\"referred_target\"][0]=='b':\n",
    "                big += 1\n",
    "            elif example[\"referred_target\"][0]=='s':\n",
    "                small += 1\n",
    "\n",
    "print('Examples: {}'.format(len(test)))\n",
    "print('Size2 Reffered as \"big\": {}'.format(big))\n",
    "print('Size2 Reffered as \"small\": {}'.format(small))\n"
   ]
  },
  {
   "cell_type": "code",
   "execution_count": 8,
   "metadata": {},
   "outputs": [
    {
     "name": "stdout",
     "output_type": "stream",
     "text": [
      "Examples: 16808\n",
      "Size2 Reffered as \"big\": 825\n",
      "Size2 Reffered as \"small\": 0\n"
     ]
    }
   ],
   "source": [
    "testA = dataset[\"examples\"][\"test\"]\n",
    "\n",
    "#Info \n",
    "big = 0\n",
    "small = 0\n",
    "for example in testA:\n",
    "    if example[\"situation\"][\"target_object\"]['object']['shape'] == 'circle':\n",
    "        if example[\"situation\"][\"target_object\"]['object']['size'] == '2':\n",
    "            if example[\"referred_target\"][0]=='b':\n",
    "                big += 1\n",
    "            elif example[\"referred_target\"][0]=='s':\n",
    "                small += 1\n",
    "\n",
    "print('Examples: {}'.format(len(test)))\n",
    "print('Size2 Reffered as \"big\": {}'.format(big))\n",
    "print('Size2 Reffered as \"small\": {}'.format(small))"
   ]
  },
  {
   "cell_type": "markdown",
   "metadata": {},
   "source": [
    "# Original Training (same as paper)"
   ]
  },
  {
   "cell_type": "code",
   "execution_count": 9,
   "metadata": {},
   "outputs": [
    {
     "name": "stdout",
     "output_type": "stream",
     "text": [
      "Examples: 16808\n",
      "Size2 Reffered as \"big\": 14979\n",
      "Size2 Reffered as \"small\": 0\n"
     ]
    }
   ],
   "source": [
    "original_train = dataset[\"examples\"][\"train\"]\n",
    "\n",
    "#Info \n",
    "big = 0\n",
    "small = 0\n",
    "for example in original_train:\n",
    "    if example[\"situation\"][\"target_object\"]['object']['shape'] == 'circle':\n",
    "        if example[\"situation\"][\"target_object\"]['object']['size'] == '2':\n",
    "            if example[\"referred_target\"][0]=='b':\n",
    "                big += 1\n",
    "            elif example[\"referred_target\"][0]=='s':\n",
    "                small += 1\n",
    "\n",
    "print('Examples: {}'.format(len(test)))\n",
    "print('Size2 Reffered as \"big\": {}'.format(big))\n",
    "print('Size2 Reffered as \"small\": {}'.format(small))"
   ]
  },
  {
   "cell_type": "markdown",
   "metadata": {},
   "source": [
    "# Level 1 subdatasets not corrected"
   ]
  },
  {
   "cell_type": "markdown",
   "metadata": {},
   "source": [
    "## Only Red"
   ]
  },
  {
   "cell_type": "markdown",
   "metadata": {},
   "source": [
    "### Extract only red, and correct instruction"
   ]
  },
  {
   "cell_type": "code",
   "execution_count": 10,
   "metadata": {},
   "outputs": [
    {
     "name": "stdout",
     "output_type": "stream",
     "text": [
      "\n",
      "\n",
      "Size level1_color_r:  15385\n"
     ]
    }
   ],
   "source": [
    "level1_color_r = [] \n",
    "color = 'red'\n",
    "\n",
    "for example in original_train:\n",
    "    control = 0\n",
    "    if example[\"situation\"][\"target_object\"][\"object\"][\"color\"] == color:\n",
    "        control = 1\n",
    "        for key, placed_object in example[\"situation\"][\"placed_objects\"].items():\n",
    "            if placed_object[\"object\"][\"color\"] == color and key != '0':\n",
    "                control = 0\n",
    "    if control == 1:\n",
    "        level1_color_r.append(copy.deepcopy(example))\n",
    "\n",
    "for example in level1_color_r:\n",
    "    command_list = example['command'].split(',')\n",
    "    new_command_list = []\n",
    "    control = 0\n",
    "    for i in command_list:\n",
    "        if i == 'cylinder' or i == 'square' or i == 'circle':\n",
    "            pass\n",
    "        elif i == 'green' or i == 'blue' or i == 'yellow':\n",
    "            pass\n",
    "        elif i == 'big' or i == 'small':\n",
    "            pass\n",
    "        else:\n",
    "            new_command_list.append(i)\n",
    "        if i == color:\n",
    "            control = 1\n",
    "    if control == 0:\n",
    "        index_a = new_command_list.index('a')\n",
    "        new_command_list.insert(index_a+1,color)\n",
    "\n",
    "            \n",
    "            \n",
    "            \n",
    "    new_command = ','.join(new_command_list)\n",
    "    example['command'] = new_command\n",
    "    example['meaning'] = new_command\n",
    "\n",
    "'''for example in level1_color_r:\n",
    "    for key, value in example.items():\n",
    "        print(key,':   ', value,'\\n')\n",
    "    break'''\n",
    "\n",
    "for example in level1_color_r:\n",
    "    for key, value in example['situation']['placed_objects'].items():\n",
    "        if value['object']['color'] == color and key != '0':\n",
    "            print('ERROR')\n",
    "        \n",
    "print('\\n\\nSize level1_color_r:  {}'.format(len(level1_color_r)))"
   ]
  },
  {
   "cell_type": "markdown",
   "metadata": {},
   "source": [
    "## Only Green"
   ]
  },
  {
   "cell_type": "markdown",
   "metadata": {},
   "source": [
    "### Extract only green, and correct instruction"
   ]
  },
  {
   "cell_type": "code",
   "execution_count": 11,
   "metadata": {},
   "outputs": [
    {
     "name": "stdout",
     "output_type": "stream",
     "text": [
      "\n",
      "\n",
      "Size level1_color_g:  22225\n"
     ]
    }
   ],
   "source": [
    "level1_color_g = []\n",
    "color = 'green'\n",
    "\n",
    "for example in original_train:\n",
    "    control = 0\n",
    "    if example[\"situation\"][\"target_object\"][\"object\"][\"color\"] == color:\n",
    "        control = 1\n",
    "        for key, placed_object in example[\"situation\"][\"placed_objects\"].items():\n",
    "            if placed_object[\"object\"][\"color\"] == color and key != '0':\n",
    "                control = 0\n",
    "    if control == 1:\n",
    "        level1_color_g.append(copy.deepcopy(example))\n",
    "\n",
    "for example in level1_color_g:\n",
    "    command_list = example['command'].split(',')\n",
    "    new_command_list = []\n",
    "    control = 0\n",
    "    for i in command_list:\n",
    "        if i == 'cylinder' or i == 'square' or i == 'circle':\n",
    "            pass\n",
    "        elif i == 'red' or i == 'blue' or i == 'yellow':\n",
    "            pass\n",
    "        elif i == 'big' or i == 'small':\n",
    "            pass\n",
    "        else:\n",
    "            new_command_list.append(i)\n",
    "        if i == color:\n",
    "            control = 1\n",
    "    if control == 0:\n",
    "        index_a = new_command_list.index('a')\n",
    "        new_command_list.insert(index_a+1,color)\n",
    "\n",
    "            \n",
    "            \n",
    "            \n",
    "    new_command = ','.join(new_command_list)\n",
    "    example['command'] = new_command\n",
    "    example['meaning'] = new_command\n",
    "    #print(example['command'])\n",
    "\n",
    "'''for example in level1_color_g:\n",
    "    for key, value in example.items():\n",
    "        print(key,':   ', value,'\\n')\n",
    "    break'''\n",
    "\n",
    "for example in level1_color_g:\n",
    "    for key, value in example['situation']['placed_objects'].items():\n",
    "        if value['object']['color'] == color and key != '0':\n",
    "            print('ERROR')\n",
    "        \n",
    "print('\\n\\nSize level1_color_g:  {}'.format(len(level1_color_g)))"
   ]
  },
  {
   "cell_type": "markdown",
   "metadata": {},
   "source": [
    "## Only Blue"
   ]
  },
  {
   "cell_type": "markdown",
   "metadata": {},
   "source": [
    "### Extract only blue, and correct instruction"
   ]
  },
  {
   "cell_type": "code",
   "execution_count": 12,
   "metadata": {},
   "outputs": [
    {
     "name": "stdout",
     "output_type": "stream",
     "text": [
      "\n",
      "\n",
      "Size level1_color_b:  22471\n"
     ]
    }
   ],
   "source": [
    "level1_color_b = []\n",
    "color = 'blue'\n",
    "\n",
    "for example in original_train:\n",
    "    control = 0\n",
    "    if example[\"situation\"][\"target_object\"][\"object\"][\"color\"] == color:\n",
    "        control = 1\n",
    "        for key, placed_object in example[\"situation\"][\"placed_objects\"].items():\n",
    "            if placed_object[\"object\"][\"color\"] == color and key != '0':\n",
    "                control = 0\n",
    "    if control == 1:\n",
    "        level1_color_b.append(copy.deepcopy(example))\n",
    "\n",
    "for example in level1_color_b:\n",
    "    command_list = example['command'].split(',')\n",
    "    new_command_list = []\n",
    "    control = 0\n",
    "    for i in command_list:\n",
    "        if i == 'cylinder' or i == 'square' or i == 'circle':\n",
    "            pass\n",
    "        elif i == 'red' or i == 'green' or i == 'yellow':\n",
    "            pass\n",
    "        elif i == 'big' or i == 'small':\n",
    "            pass\n",
    "        else:\n",
    "            new_command_list.append(i)\n",
    "        if i == color:\n",
    "            control = 1\n",
    "    if control == 0:\n",
    "        index_a = new_command_list.index('a')\n",
    "        new_command_list.insert(index_a+1,color)\n",
    "\n",
    "            \n",
    "            \n",
    "            \n",
    "    new_command = ','.join(new_command_list)\n",
    "    example['command'] = new_command\n",
    "    example['meaning'] = new_command\n",
    "    #print(example['command'])\n",
    "\n",
    "'''for example in level1_color_b:\n",
    "    for key, value in example.items():\n",
    "        print(key,':   ', value,'\\n')\n",
    "    break'''\n",
    "\n",
    "for example in level1_color_b:\n",
    "    for key, value in example['situation']['placed_objects'].items():\n",
    "        if value['object']['color'] == color and key != '0':\n",
    "            print('ERROR')\n",
    "        \n",
    "print('\\n\\nSize level1_color_b:  {}'.format(len(level1_color_b)))"
   ]
  },
  {
   "cell_type": "markdown",
   "metadata": {},
   "source": [
    "## Only Yellow"
   ]
  },
  {
   "cell_type": "markdown",
   "metadata": {},
   "source": [
    "### Extract only yellow, and correct instruction"
   ]
  },
  {
   "cell_type": "code",
   "execution_count": 13,
   "metadata": {},
   "outputs": [
    {
     "name": "stdout",
     "output_type": "stream",
     "text": [
      "\n",
      "\n",
      "Size level1_color_y:  20429\n"
     ]
    }
   ],
   "source": [
    "level1_color_y = []\n",
    "color = 'yellow'\n",
    "\n",
    "for example in original_train:\n",
    "    control = 0\n",
    "    if example[\"situation\"][\"target_object\"][\"object\"][\"color\"] == color:\n",
    "        control = 1\n",
    "        for key, placed_object in example[\"situation\"][\"placed_objects\"].items():\n",
    "            if placed_object[\"object\"][\"color\"] == color and key != '0':\n",
    "                control = 0\n",
    "    if control == 1:\n",
    "        level1_color_y.append(copy.deepcopy(example))\n",
    "\n",
    "for example in level1_color_y:\n",
    "    command_list = example['command'].split(',')\n",
    "    new_command_list = []\n",
    "    control = 0\n",
    "    for i in command_list:\n",
    "        if i == 'cylinder' or i == 'square' or i == 'circle':\n",
    "            pass\n",
    "        elif i == 'red' or i == 'green' or i == 'blue':\n",
    "            pass\n",
    "        elif i == 'big' or i == 'small':\n",
    "            pass\n",
    "        else:\n",
    "            new_command_list.append(i)\n",
    "        if i == color:\n",
    "            control = 1\n",
    "    if control == 0:\n",
    "        index_a = new_command_list.index('a')\n",
    "        new_command_list.insert(index_a+1,color)\n",
    "\n",
    "            \n",
    "            \n",
    "            \n",
    "    new_command = ','.join(new_command_list)\n",
    "    example['command'] = new_command\n",
    "    example['meaning'] = new_command\n",
    "    #print(example['command'])\n",
    "\n",
    "'''for example in level1_color_y:\n",
    "    for key, value in example.items():\n",
    "        print(key,':   ', value,'\\n')\n",
    "    break'''\n",
    "\n",
    "for example in level1_color_y:\n",
    "    for key, value in example['situation']['placed_objects'].items():\n",
    "        if value['object']['color'] == color and key != '0':\n",
    "            print('ERROR')\n",
    "        \n",
    "print('\\n\\nSize level1_color_y:  {}'.format(len(level1_color_y)))"
   ]
  },
  {
   "cell_type": "markdown",
   "metadata": {},
   "source": [
    "## Only Square"
   ]
  },
  {
   "cell_type": "markdown",
   "metadata": {},
   "source": [
    "### Extract only square, not corrected"
   ]
  },
  {
   "cell_type": "code",
   "execution_count": 14,
   "metadata": {},
   "outputs": [
    {
     "name": "stdout",
     "output_type": "stream",
     "text": [
      "\n",
      "\n",
      "Size level1_shape_square:  22109\n"
     ]
    }
   ],
   "source": [
    "level1_shape_square = []\n",
    "shape = 'square'\n",
    "\n",
    "for example in original_train:\n",
    "    control = 0\n",
    "    if example[\"situation\"][\"target_object\"][\"object\"][\"shape\"] == shape:\n",
    "        control = 1\n",
    "        for key, placed_object in example[\"situation\"][\"placed_objects\"].items():\n",
    "            if placed_object[\"object\"][\"shape\"] == shape and key != '0':\n",
    "                control = 0\n",
    "    if control == 1:\n",
    "        level1_shape_square.append(copy.deepcopy(example))\n",
    "\n",
    "for example in level1_shape_square:\n",
    "    command_list = example['command'].split(',')\n",
    "    new_command_list = []\n",
    "    control = 0\n",
    "    for i in command_list:\n",
    "        if i == 'cylinder' or i == 'circle':\n",
    "            pass\n",
    "        elif i == 'red' or i == 'green' or i == 'blue' or i =='yellow':\n",
    "            pass\n",
    "        elif i == 'big' or i == 'small':\n",
    "            pass\n",
    "        else:\n",
    "            new_command_list.append(i)\n",
    "        if i == shape:\n",
    "            control = 1\n",
    "    if control == 0:\n",
    "        index_a = new_command_list.index('a')\n",
    "        new_command_list.insert(index_a+1,shape)\n",
    "\n",
    "            \n",
    "            \n",
    "            \n",
    "    new_command = ','.join(new_command_list)\n",
    "    example['command'] = new_command\n",
    "    example['meaning'] = new_command\n",
    "    #print(example['command'])\n",
    "    \n",
    "'''for example in level1_shape_square:\n",
    "    for key, value in example.items():\n",
    "        print(key,':   ', value,'\\n')\n",
    "    break'''\n",
    "\n",
    "for example in level1_shape_square:\n",
    "    for key, value in example['situation']['placed_objects'].items():\n",
    "        if value['object']['shape'] == shape and key != '0':\n",
    "            print('ERROR')\n",
    "        \n",
    "print('\\n\\nSize level1_shape_square:  {}'.format(len(level1_shape_square)))"
   ]
  },
  {
   "cell_type": "markdown",
   "metadata": {},
   "source": [
    "## Only Circle"
   ]
  },
  {
   "cell_type": "markdown",
   "metadata": {},
   "source": [
    "### Extract only circle, and correct instruction"
   ]
  },
  {
   "cell_type": "code",
   "execution_count": 15,
   "metadata": {},
   "outputs": [
    {
     "name": "stdout",
     "output_type": "stream",
     "text": [
      "\n",
      "\n",
      "Size level1_shape_circle:  33703\n"
     ]
    }
   ],
   "source": [
    "level1_shape_circle = []\n",
    "shape = 'circle'\n",
    "\n",
    "for example in original_train:\n",
    "    control = 0\n",
    "    if example[\"situation\"][\"target_object\"][\"object\"][\"shape\"] == shape:\n",
    "        control = 1\n",
    "        for key, placed_object in example[\"situation\"][\"placed_objects\"].items():\n",
    "            if placed_object[\"object\"][\"shape\"] == shape and key != '0':\n",
    "                control = 0\n",
    "    if control == 1:\n",
    "        level1_shape_circle.append(copy.deepcopy(example))\n",
    "\n",
    "for example in level1_shape_circle:\n",
    "    command_list = example['command'].split(',')\n",
    "    new_command_list = []\n",
    "    control = 0\n",
    "    for i in command_list:\n",
    "        if i == 'cylinder' or i == 'square':\n",
    "            pass\n",
    "        elif i == 'red' or i == 'green' or i == 'blue' or i =='yellow':\n",
    "            pass\n",
    "        elif i == 'big' or i == 'small':\n",
    "            pass\n",
    "        else:\n",
    "            new_command_list.append(i)\n",
    "        if i == shape:\n",
    "            control = 1\n",
    "    if control == 0:\n",
    "        index_a = new_command_list.index('a')\n",
    "        new_command_list.insert(index_a+1,shape)\n",
    "\n",
    "            \n",
    "            \n",
    "            \n",
    "    new_command = ','.join(new_command_list)\n",
    "    example['command'] = new_command\n",
    "    example['meaning'] = new_command\n",
    "    #print(example['command'])\n",
    "    \n",
    "'''for example in level1_shape_circle:\n",
    "    for key, value in example.items():\n",
    "        print(key,':   ', value,'\\n')\n",
    "    break'''\n",
    "\n",
    "for example in level1_shape_circle:\n",
    "    for key, value in example['situation']['placed_objects'].items():\n",
    "        if value['object']['shape'] == shape and key != '0':\n",
    "            print('ERROR')\n",
    "        \n",
    "print('\\n\\nSize level1_shape_circle:  {}'.format(len(level1_shape_circle)))"
   ]
  },
  {
   "cell_type": "markdown",
   "metadata": {},
   "source": [
    "## Only Cylinder"
   ]
  },
  {
   "cell_type": "markdown",
   "metadata": {},
   "source": [
    "### Extract only cylinder, and correct instruction"
   ]
  },
  {
   "cell_type": "code",
   "execution_count": 16,
   "metadata": {},
   "outputs": [
    {
     "name": "stdout",
     "output_type": "stream",
     "text": [
      "\n",
      "\n",
      "Size level1_shape_cylinder:  33528\n"
     ]
    }
   ],
   "source": [
    "level1_shape_cylinder = []\n",
    "shape = 'cylinder'\n",
    "\n",
    "for example in original_train:\n",
    "    control = 0\n",
    "    if example[\"situation\"][\"target_object\"][\"object\"][\"shape\"] == shape:\n",
    "        control = 1\n",
    "        for key, placed_object in example[\"situation\"][\"placed_objects\"].items():\n",
    "            if placed_object[\"object\"][\"shape\"] == shape and key != '0':\n",
    "                control = 0\n",
    "    if control == 1:\n",
    "        level1_shape_cylinder.append(copy.deepcopy(example))\n",
    "\n",
    "for example in level1_shape_cylinder:\n",
    "    command_list = example['command'].split(',')\n",
    "    new_command_list = []\n",
    "    control = 0\n",
    "    for i in command_list:\n",
    "        if i == 'circle' or i == 'square':\n",
    "            pass\n",
    "        elif i == 'red' or i == 'green' or i == 'blue' or i =='yellow':\n",
    "            pass\n",
    "        elif i == 'big' or i == 'small':\n",
    "            pass\n",
    "        else:\n",
    "            new_command_list.append(i)\n",
    "        if i == shape:\n",
    "            control = 1\n",
    "    if control == 0:\n",
    "        index_a = new_command_list.index('a')\n",
    "        new_command_list.insert(index_a+1,shape)\n",
    "\n",
    "            \n",
    "            \n",
    "            \n",
    "    new_command = ','.join(new_command_list)\n",
    "    example['command'] = new_command\n",
    "    example['meaning'] = new_command\n",
    "    #print(example['command'])\n",
    "    \n",
    "'''for example in level1_shape_cylinder:\n",
    "    for key, value in example.items():\n",
    "        print(key,':   ', value,'\\n')\n",
    "    break'''\n",
    "\n",
    "for example in level1_shape_cylinder:\n",
    "    for key, value in example['situation']['placed_objects'].items():\n",
    "        if value['object']['shape'] == shape and key != '0':\n",
    "            print('ERROR')\n",
    "        \n",
    "print('\\n\\nSize level1_shape_cylinder:  {}'.format(len(level1_shape_cylinder)))"
   ]
  },
  {
   "cell_type": "markdown",
   "metadata": {},
   "source": [
    "## Only Size 1 as small"
   ]
  },
  {
   "cell_type": "markdown",
   "metadata": {},
   "source": [
    "### Extract only size 1 as small, and correct instruction"
   ]
  },
  {
   "cell_type": "code",
   "execution_count": 17,
   "metadata": {},
   "outputs": [
    {
     "name": "stdout",
     "output_type": "stream",
     "text": [
      "\n",
      "\n",
      "Size level1_size_1_small:  24902\n"
     ]
    }
   ],
   "source": [
    "level1_size_1_small = []\n",
    "size = '1'\n",
    "reffered_size = 's'\n",
    "sizeW = 'small'\n",
    "\n",
    "n = 0\n",
    "for example in original_train:\n",
    "    control = 0\n",
    "    if example[\"situation\"][\"target_object\"][\"object\"][\"size\"] == size:\n",
    "        if example[\"referred_target\"][0]==reffered_size:\n",
    "            control = 1\n",
    "            count = 0\n",
    "            for key, placed_object in example[\"situation\"][\"placed_objects\"].items():\n",
    "                if key != '0' and ( placed_object['object']['size'] == '1'):\n",
    "                    count += 1\n",
    "            if count < 3: \n",
    "                control = 1\n",
    "                if count == 0:\n",
    "                    n = n+1\n",
    "            else: control = 0\n",
    "        if control == 1:\n",
    "            level1_size_1_small.append(copy.deepcopy(example))        \n",
    "\n",
    "\n",
    "for example in level1_size_1_small:\n",
    "    keep_key = ['0']\n",
    "    for i in range(1,len(example['situation']['placed_objects'])):\n",
    "        if example['situation']['placed_objects'][str(i)]['object']['size']== '1':\n",
    "            example['situation']['placed_objects'].pop(str(i))\n",
    "        else:\n",
    "            keep_key.append(str(i))\n",
    "    j = 0\n",
    "    for i in keep_key:\n",
    "        example['situation']['placed_objects'][str(j)] = example['situation']['placed_objects'].pop(i) \n",
    "        j += 1\n",
    "            \n",
    "            \n",
    "for example in level1_size_1_small:\n",
    "    command_list = example['command'].split(',')\n",
    "    new_command_list = []\n",
    "    control = 0\n",
    "    for i in command_list:\n",
    "        if i == 'circle' or i == 'square' or i == 'cylinder':\n",
    "            pass\n",
    "        elif i == 'red' or i == 'green' or i == 'blue' or i =='yellow':\n",
    "            pass\n",
    "        elif i == 'big':\n",
    "            pass\n",
    "        else:\n",
    "            new_command_list.append(i)\n",
    "        if i == sizeW:\n",
    "            control = 1\n",
    "    if control == 0:\n",
    "        index_a = new_command_list.index('a')\n",
    "        new_command_list.insert(index_a+1,sizeW)\n",
    "\n",
    "            \n",
    "            \n",
    "            \n",
    "    new_command = ','.join(new_command_list)\n",
    "    example['command'] = new_command\n",
    "    example['meaning'] = new_command\n",
    "    #print(example['command'])\n",
    "    \n",
    "'''for example in level1_size_2_small:\n",
    "    for key, value in example.items():\n",
    "        print(key,':   ', value,'\\n')\n",
    "    break'''\n",
    "\n",
    "for example in level1_size_1_small:\n",
    "    for key, value in example['situation']['placed_objects'].items():\n",
    "        if key != '0' and (value['object']['size'] == '1'):\n",
    "            print('ERROR')\n",
    "            \n",
    "print('\\n\\nSize level1_size_1_small:  {}'.format(len(level1_size_1_small)))"
   ]
  },
  {
   "cell_type": "markdown",
   "metadata": {},
   "source": [
    "## Only Size 2 as small"
   ]
  },
  {
   "cell_type": "markdown",
   "metadata": {},
   "source": [
    "### Extract only size 2 as small,and correct instruction"
   ]
  },
  {
   "cell_type": "code",
   "execution_count": 18,
   "metadata": {},
   "outputs": [
    {
     "name": "stdout",
     "output_type": "stream",
     "text": [
      "\n",
      "\n",
      "Size level1_size_2_small:  3842\n"
     ]
    }
   ],
   "source": [
    "level1_size_2_small = []\n",
    "size = '2'\n",
    "reffered_size = 's'\n",
    "sizeW = 'small'\n",
    "\n",
    "n = 0\n",
    "for example in original_train:\n",
    "    control = 0\n",
    "    if example[\"situation\"][\"target_object\"][\"object\"][\"size\"] == size:\n",
    "        if example[\"referred_target\"][0]==reffered_size:\n",
    "            control = 1\n",
    "            count = 0\n",
    "            for key, placed_object in example[\"situation\"][\"placed_objects\"].items():\n",
    "                if key != '0' and ( placed_object['object']['size'] == '2' or placed_object['object']['size'] == '1'):\n",
    "                    count += 1\n",
    "            if count < 3: \n",
    "                control = 1\n",
    "                if count == 0:\n",
    "                    n = n+1\n",
    "            else: control = 0\n",
    "        if control == 1:\n",
    "            level1_size_2_small.append(copy.deepcopy(example))        \n",
    "\n",
    "\n",
    "for example in level1_size_2_small:\n",
    "    keep_key = ['0']\n",
    "    for i in range(1,len(example['situation']['placed_objects'])):\n",
    "        if example['situation']['placed_objects'][str(i)]['object']['size']== '2' or example['situation']['placed_objects'][str(i)]['object']['size']== '1':\n",
    "            example['situation']['placed_objects'].pop(str(i))\n",
    "        else:\n",
    "            keep_key.append(str(i))\n",
    "    j = 0\n",
    "    for i in keep_key:\n",
    "        example['situation']['placed_objects'][str(j)] = example['situation']['placed_objects'].pop(i) \n",
    "        j += 1\n",
    "            \n",
    "            \n",
    "for example in level1_size_2_small:\n",
    "    command_list = example['command'].split(',')\n",
    "    new_command_list = []\n",
    "    control = 0\n",
    "    for i in command_list:\n",
    "        if i == 'circle' or i == 'square' or i == 'cylinder':\n",
    "            pass\n",
    "        elif i == 'red' or i == 'green' or i == 'blue' or i =='yellow':\n",
    "            pass\n",
    "        elif i == 'big':\n",
    "            pass\n",
    "        else:\n",
    "            new_command_list.append(i)\n",
    "        if i == sizeW:\n",
    "            control = 1\n",
    "    if control == 0:\n",
    "        index_a = new_command_list.index('a')\n",
    "        new_command_list.insert(index_a+1,sizeW)\n",
    "\n",
    "            \n",
    "            \n",
    "            \n",
    "    new_command = ','.join(new_command_list)\n",
    "    example['command'] = new_command\n",
    "    example['meaning'] = new_command\n",
    "    #print(example['command'])\n",
    "    \n",
    "'''for example in level1_size_2_small:\n",
    "    for key, value in example.items():\n",
    "        print(key,':   ', value,'\\n')\n",
    "    break'''\n",
    "\n",
    "for example in level1_size_2_small:\n",
    "    for key, value in example['situation']['placed_objects'].items():\n",
    "        if key != '0' and (value['object']['size'] == '2'  or value['object']['size'] == '1'):\n",
    "            print('ERROR')\n",
    "            \n",
    "print('\\n\\nSize level1_size_2_small:  {}'.format(len(level1_size_2_small)))"
   ]
  },
  {
   "cell_type": "markdown",
   "metadata": {},
   "source": [
    "## Only Size 3 as small"
   ]
  },
  {
   "cell_type": "markdown",
   "metadata": {},
   "source": [
    "### Extract only size 3 as small, and correct instruction"
   ]
  },
  {
   "cell_type": "code",
   "execution_count": 19,
   "metadata": {},
   "outputs": [
    {
     "name": "stdout",
     "output_type": "stream",
     "text": [
      "\n",
      "\n",
      "Size level1_size_3_small:  554\n"
     ]
    }
   ],
   "source": [
    "level1_size_3_small = []\n",
    "size = '3'\n",
    "reffered_size = 's'\n",
    "sizeW = 'small'\n",
    "\n",
    "n = 0\n",
    "for example in original_train:\n",
    "    control = 0\n",
    "    if example[\"situation\"][\"target_object\"][\"object\"][\"size\"] == size:\n",
    "        if example[\"referred_target\"][0]==reffered_size:\n",
    "            control = 1\n",
    "            count = 0\n",
    "            for key, placed_object in example[\"situation\"][\"placed_objects\"].items():\n",
    "                if key != '0' and ( placed_object['object']['size'] == '3' or placed_object['object']['size'] == '2' or placed_object['object']['size'] == '1'):\n",
    "                    count += 1\n",
    "            if count < 3: \n",
    "                control = 1\n",
    "                if count == 0:\n",
    "                    n = n+1\n",
    "            else: control = 0\n",
    "        if control == 1:\n",
    "            level1_size_3_small.append(copy.deepcopy(example))        \n",
    "\n",
    "\n",
    "for example in level1_size_3_small:\n",
    "    keep_key = ['0']\n",
    "    for i in range(1,len(example['situation']['placed_objects'])):\n",
    "        if example['situation']['placed_objects'][str(i)]['object']['size']== '3' or example['situation']['placed_objects'][str(i)]['object']['size']== '2' or example['situation']['placed_objects'][str(i)]['object']['size']== '1':\n",
    "            example['situation']['placed_objects'].pop(str(i))\n",
    "        else:\n",
    "            keep_key.append(str(i))\n",
    "    j = 0\n",
    "    for i in keep_key:\n",
    "        example['situation']['placed_objects'][str(j)] = example['situation']['placed_objects'].pop(i) \n",
    "        j += 1\n",
    "            \n",
    "            \n",
    "for example in level1_size_3_small:\n",
    "    command_list = example['command'].split(',')\n",
    "    new_command_list = []\n",
    "    control = 0\n",
    "    for i in command_list:\n",
    "        if i == 'circle' or i == 'square' or i == 'cylinder':\n",
    "            pass\n",
    "        elif i == 'red' or i == 'green' or i == 'blue' or i =='yellow':\n",
    "            pass\n",
    "        elif i == 'big':\n",
    "            pass\n",
    "        else:\n",
    "            new_command_list.append(i)\n",
    "        if i == sizeW:\n",
    "            control = 1\n",
    "    if control == 0:\n",
    "        index_a = new_command_list.index('a')\n",
    "        new_command_list.insert(index_a+1,sizeW)\n",
    "\n",
    "            \n",
    "            \n",
    "            \n",
    "    new_command = ','.join(new_command_list)\n",
    "    example['command'] = new_command\n",
    "    example['meaning'] = new_command\n",
    "    #print(example['command'])\n",
    "    \n",
    "'''for example in level1_size_3_small:\n",
    "    for key, value in example.items():\n",
    "        print(key,':   ', value,'\\n')\n",
    "    break'''\n",
    "\n",
    "for example in level1_size_3_small:\n",
    "    for key, value in example['situation']['placed_objects'].items():\n",
    "        if key != '0' and (value['object']['size'] == '3' or value['object']['size'] == '2'  or value['object']['size'] == '1'):\n",
    "            print('ERROR')\n",
    "            \n",
    "print('\\n\\nSize level1_size_3_small:  {}'.format(len(level1_size_3_small)))"
   ]
  },
  {
   "cell_type": "markdown",
   "metadata": {},
   "source": [
    "## Only Size 2 as big"
   ]
  },
  {
   "cell_type": "markdown",
   "metadata": {},
   "source": [
    "### Extract only size 2 as big, and correct instruction"
   ]
  },
  {
   "cell_type": "code",
   "execution_count": 20,
   "metadata": {},
   "outputs": [
    {
     "name": "stdout",
     "output_type": "stream",
     "text": [
      "\n",
      "\n",
      "Size level1_size_2_big:  621\n"
     ]
    }
   ],
   "source": [
    "level1_size_2_big = []\n",
    "size = '2'\n",
    "reffered_size = 'b'\n",
    "sizeW = 'big'\n",
    "\n",
    "n = 0\n",
    "for example in original_train:\n",
    "    control = 0\n",
    "    if example[\"situation\"][\"target_object\"][\"object\"][\"size\"] == size:\n",
    "        if example[\"referred_target\"][0]==reffered_size:\n",
    "            control = 1\n",
    "            count = 0\n",
    "            for key, placed_object in example[\"situation\"][\"placed_objects\"].items():\n",
    "                if key != '0' and ( placed_object['object']['size'] == '4' or placed_object['object']['size'] == '3' or placed_object['object']['size'] == '2'):\n",
    "                    count += 1\n",
    "            if count < 3: \n",
    "                control = 1\n",
    "                if count == 0:\n",
    "                    n = n+1\n",
    "            else: control = 0\n",
    "        if control == 1:\n",
    "            level1_size_2_big.append(copy.deepcopy(example))        \n",
    "\n",
    "\n",
    "for example in level1_size_2_big:\n",
    "    keep_key = ['0']\n",
    "    for i in range(1,len(example['situation']['placed_objects'])):\n",
    "        if example['situation']['placed_objects'][str(i)]['object']['size']== '4' or example['situation']['placed_objects'][str(i)]['object']['size']== '3' or example['situation']['placed_objects'][str(i)]['object']['size']== '2':\n",
    "            example['situation']['placed_objects'].pop(str(i))\n",
    "        else:\n",
    "            keep_key.append(str(i))\n",
    "    j = 0\n",
    "    for i in keep_key:\n",
    "        example['situation']['placed_objects'][str(j)] = example['situation']['placed_objects'].pop(i) \n",
    "        j += 1\n",
    "            \n",
    "            \n",
    "for example in level1_size_2_big:\n",
    "    command_list = example['command'].split(',')\n",
    "    new_command_list = []\n",
    "    control = 0\n",
    "    for i in command_list:\n",
    "        if i == 'circle' or i == 'square' or i == 'cylinder':\n",
    "            pass\n",
    "        elif i == 'red' or i == 'green' or i == 'blue' or i =='yellow':\n",
    "            pass\n",
    "        elif i == 'small':\n",
    "            pass\n",
    "        else:\n",
    "            new_command_list.append(i)\n",
    "        if i == sizeW:\n",
    "            control = 1\n",
    "    if control == 0:\n",
    "        index_a = new_command_list.index('a')\n",
    "        new_command_list.insert(index_a+1,sizeW)\n",
    "\n",
    "            \n",
    "            \n",
    "            \n",
    "    new_command = ','.join(new_command_list)\n",
    "    example['command'] = new_command\n",
    "    example['meaning'] = new_command\n",
    "    #print(example['command'])\n",
    "    \n",
    "'''for example in level1_size_2_big:\n",
    "    for key, value in example.items():\n",
    "        print(key,':   ', value,'\\n')\n",
    "    break'''\n",
    "\n",
    "for example in level1_size_2_big:\n",
    "    for key, value in example['situation']['placed_objects'].items():\n",
    "        if key != '0' and (value['object']['size'] == '4' or value['object']['size'] == '3'  or value['object']['size'] == '2'):\n",
    "            print('ERROR')\n",
    "            \n",
    "print('\\n\\nSize level1_size_2_big:  {}'.format(len(level1_size_2_big)))"
   ]
  },
  {
   "cell_type": "markdown",
   "metadata": {},
   "source": [
    "## Only Size 3 as big"
   ]
  },
  {
   "cell_type": "markdown",
   "metadata": {},
   "source": [
    "### Extract only size 3 as big, and correct instruction"
   ]
  },
  {
   "cell_type": "code",
   "execution_count": 21,
   "metadata": {},
   "outputs": [
    {
     "name": "stdout",
     "output_type": "stream",
     "text": [
      "\n",
      "\n",
      "Size level1_size_3_big:  5442\n"
     ]
    }
   ],
   "source": [
    "level1_size_3_big = []\n",
    "size = '3'\n",
    "reffered_size = 'b'\n",
    "sizeW = 'big'\n",
    "\n",
    "n = 0\n",
    "for example in original_train:\n",
    "    control = 0\n",
    "    if example[\"situation\"][\"target_object\"][\"object\"][\"size\"] == size:\n",
    "        if example[\"referred_target\"][0]==reffered_size:\n",
    "            control = 1\n",
    "            count = 0\n",
    "            for key, placed_object in example[\"situation\"][\"placed_objects\"].items():\n",
    "                if key != '0' and ( placed_object['object']['size'] == '4' or placed_object['object']['size'] == '3'):\n",
    "                    count += 1\n",
    "            if count < 3: \n",
    "                control = 1\n",
    "                if count == 0:\n",
    "                    n = n+1\n",
    "            else: control = 0\n",
    "        if control == 1:\n",
    "            level1_size_3_big.append(copy.deepcopy(example))        \n",
    "\n",
    "\n",
    "for example in level1_size_3_big:\n",
    "    keep_key = ['0']\n",
    "    for i in range(1,len(example['situation']['placed_objects'])):\n",
    "        if example['situation']['placed_objects'][str(i)]['object']['size']== '4' or example['situation']['placed_objects'][str(i)]['object']['size']== '3':\n",
    "            example['situation']['placed_objects'].pop(str(i))\n",
    "        else:\n",
    "            keep_key.append(str(i))\n",
    "    j = 0\n",
    "    for i in keep_key:\n",
    "        example['situation']['placed_objects'][str(j)] = example['situation']['placed_objects'].pop(i) \n",
    "        j += 1\n",
    "            \n",
    "            \n",
    "for example in level1_size_3_big:\n",
    "    command_list = example['command'].split(',')\n",
    "    new_command_list = []\n",
    "    control = 0\n",
    "    for i in command_list:\n",
    "        if i == 'circle' or i == 'square' or i == 'cylinder':\n",
    "            pass\n",
    "        elif i == 'red' or i == 'green' or i == 'blue' or i =='yellow':\n",
    "            pass\n",
    "        elif i == 'small':\n",
    "            pass\n",
    "        else:\n",
    "            new_command_list.append(i)\n",
    "        if i == sizeW:\n",
    "            control = 1\n",
    "    if control == 0:\n",
    "        index_a = new_command_list.index('a')\n",
    "        new_command_list.insert(index_a+1,sizeW)\n",
    "\n",
    "            \n",
    "            \n",
    "            \n",
    "    new_command = ','.join(new_command_list)\n",
    "    example['command'] = new_command\n",
    "    example['meaning'] = new_command\n",
    "    #print(example['command'])\n",
    "    \n",
    "'''for example in level1_size_3_big:\n",
    "    for key, value in example.items():\n",
    "        print(key,':   ', value,'\\n')\n",
    "    break'''\n",
    "\n",
    "for example in level1_size_3_big:\n",
    "    for key, value in example['situation']['placed_objects'].items():\n",
    "        if key != '0' and (value['object']['size'] == '4' or value['object']['size'] == '3'):\n",
    "            print('ERROR')\n",
    "            \n",
    "print('\\n\\nSize level1_size_3_big:  {}'.format(len(level1_size_3_big)))"
   ]
  },
  {
   "cell_type": "markdown",
   "metadata": {},
   "source": [
    "## Only Size 4 as big"
   ]
  },
  {
   "cell_type": "markdown",
   "metadata": {},
   "source": [
    "### Extract only size 4as big, and correct instruction"
   ]
  },
  {
   "cell_type": "code",
   "execution_count": 22,
   "metadata": {},
   "outputs": [
    {
     "name": "stdout",
     "output_type": "stream",
     "text": [
      "\n",
      "\n",
      "Size level1_size_4_big:  24834\n"
     ]
    }
   ],
   "source": [
    "level1_size_4_big = []\n",
    "size = '4'\n",
    "reffered_size = 'b'\n",
    "sizeW = 'big'\n",
    "\n",
    "n = 0\n",
    "for example in original_train:\n",
    "    control = 0\n",
    "    if example[\"situation\"][\"target_object\"][\"object\"][\"size\"] == size:\n",
    "        if example[\"referred_target\"][0]==reffered_size:\n",
    "            control = 1\n",
    "            count = 0\n",
    "            for key, placed_object in example[\"situation\"][\"placed_objects\"].items():\n",
    "                if key != '0' and ( placed_object['object']['size'] == '4'):\n",
    "                    count += 1\n",
    "            if count < 3: \n",
    "                control = 1\n",
    "                if count == 0:\n",
    "                    n = n+1\n",
    "            else: control = 0\n",
    "        if control == 1:\n",
    "            level1_size_4_big.append(copy.deepcopy(example))        \n",
    "\n",
    "\n",
    "for example in level1_size_4_big:\n",
    "    keep_key = ['0']\n",
    "    for i in range(1,len(example['situation']['placed_objects'])):\n",
    "        if example['situation']['placed_objects'][str(i)]['object']['size']== '4':\n",
    "            example['situation']['placed_objects'].pop(str(i))\n",
    "        else:\n",
    "            keep_key.append(str(i))\n",
    "    j = 0\n",
    "    for i in keep_key:\n",
    "        example['situation']['placed_objects'][str(j)] = example['situation']['placed_objects'].pop(i) \n",
    "        j += 1\n",
    "            \n",
    "            \n",
    "for example in level1_size_4_big:\n",
    "    command_list = example['command'].split(',')\n",
    "    new_command_list = []\n",
    "    control = 0\n",
    "    for i in command_list:\n",
    "        if i == 'circle' or i == 'square' or i == 'cylinder':\n",
    "            pass\n",
    "        elif i == 'red' or i == 'green' or i == 'blue' or i =='yellow':\n",
    "            pass\n",
    "        elif i == 'small':\n",
    "            pass\n",
    "        else:\n",
    "            new_command_list.append(i)\n",
    "        if i == sizeW:\n",
    "            control = 1\n",
    "    if control == 0:\n",
    "        index_a = new_command_list.index('a')\n",
    "        new_command_list.insert(index_a+1,sizeW)\n",
    "\n",
    "            \n",
    "            \n",
    "            \n",
    "    new_command = ','.join(new_command_list)\n",
    "    example['command'] = new_command\n",
    "    example['meaning'] = new_command\n",
    "    #print(example['command'])\n",
    "    \n",
    "'''for example in level1_size_3_big:\n",
    "    for key, value in example.items():\n",
    "        print(key,':   ', value,'\\n')\n",
    "    break'''\n",
    "\n",
    "for example in level1_size_4_big:\n",
    "    for key, value in example['situation']['placed_objects'].items():\n",
    "        if key != '0' and value['object']['size'] == '4':\n",
    "            print('ERROR')\n",
    "            \n",
    "print('\\n\\nSize level1_size_4_big:  {}'.format(len(level1_size_4_big)))"
   ]
  },
  {
   "cell_type": "markdown",
   "metadata": {},
   "source": [
    "### LEVEL 1 Results"
   ]
  },
  {
   "cell_type": "code",
   "execution_count": 23,
   "metadata": {},
   "outputs": [
    {
     "name": "stdout",
     "output_type": "stream",
     "text": [
      "Original Train:   367933\n",
      "\n",
      "Level 1 total:   230045\n",
      "\tLevel 1 color:   80510\n",
      "\t\tLevel 1 color red:   15385\n",
      "\t\tLevel 1 color green:   22225\n",
      "\t\tLevel 1 color blue:   22471\n",
      "\t\tLevel 1 color yellow:   20429\n",
      "\tLevel 1 shape:   89340\n",
      "\t\tLevel 1 shape sqare:   22109\n",
      "\t\tLevel 1 shape circle:   33703\n",
      "\t\tLevel 1 shape cylinder:   33528\n",
      "\tLevel 1 size:   60195\n",
      "\t\tLevel 1 size 1 small:   24902\n",
      "\t\tLevel 1 size 2 small:   3842\n",
      "\t\tLevel 1 size 3 small:   554\n",
      "\t\tLevel 1 size 2 big:   621\n",
      "\t\tLevel 1 size 3 big:   5442\n",
      "\t\tLevel 1 size 4 big:   24834\n"
     ]
    }
   ],
   "source": [
    "print('Original Train:   {}'.format(len(original_train)))\n",
    "\n",
    "colorL = len(level1_color_r)+len(level1_color_g)+len(level1_color_b)+len(level1_color_y)\n",
    "shapeL = len(level1_shape_square)+len(level1_shape_circle)+len(level1_shape_cylinder)\n",
    "sizeL = len(level1_size_1_small)+len(level1_size_2_small)+len(level1_size_3_small)+len(level1_size_2_big)+len(level1_size_3_big)+len(level1_size_4_big)\n",
    "totalL = colorL + shapeL + sizeL\n",
    "print('\\nLevel 1 total:   {}'.format(totalL))\n",
    "\n",
    "print('\\tLevel 1 color:   {}'.format(colorL))\n",
    "print('\\t\\tLevel 1 color red:   {}'.format(len(level1_color_r)))\n",
    "print('\\t\\tLevel 1 color green:   {}'.format(len(level1_color_g)))\n",
    "print('\\t\\tLevel 1 color blue:   {}'.format(len(level1_color_b)))\n",
    "print('\\t\\tLevel 1 color yellow:   {}'.format(len(level1_color_y)))\n",
    "\n",
    "print('\\tLevel 1 shape:   {}'.format(shapeL))\n",
    "print('\\t\\tLevel 1 shape sqare:   {}'.format(len(level1_shape_square)))\n",
    "print('\\t\\tLevel 1 shape circle:   {}'.format(len(level1_shape_circle)))\n",
    "print('\\t\\tLevel 1 shape cylinder:   {}'.format(len(level1_shape_cylinder)))\n",
    "\n",
    "print('\\tLevel 1 size:   {}'.format(sizeL))\n",
    "print('\\t\\tLevel 1 size 1 small:   {}'.format(len(level1_size_1_small)))\n",
    "print('\\t\\tLevel 1 size 2 small:   {}'.format(len(level1_size_2_small)))\n",
    "print('\\t\\tLevel 1 size 3 small:   {}'.format(len(level1_size_3_small)))\n",
    "print('\\t\\tLevel 1 size 2 big:   {}'.format(len(level1_size_2_big)))\n",
    "print('\\t\\tLevel 1 size 3 big:   {}'.format(len(level1_size_3_big)))\n",
    "print('\\t\\tLevel 1 size 4 big:   {}'.format(len(level1_size_4_big)))"
   ]
  },
  {
   "cell_type": "markdown",
   "metadata": {},
   "source": [
    "# Level 2"
   ]
  },
  {
   "cell_type": "markdown",
   "metadata": {},
   "source": [
    "## shape + color"
   ]
  },
  {
   "cell_type": "markdown",
   "metadata": {},
   "source": [
    "### Extract only shape  and color"
   ]
  },
  {
   "cell_type": "code",
   "execution_count": 24,
   "metadata": {},
   "outputs": [
    {
     "name": "stdout",
     "output_type": "stream",
     "text": [
      "153825\n"
     ]
    }
   ],
   "source": [
    "level2_shape_color = []\n",
    "\n",
    "n = 0   \n",
    "for example in original_train:\n",
    "    command_list = example['command'].split(',')\n",
    "    control = 0\n",
    "    for i in command_list:\n",
    "        if i == 'big' or i == 'small':\n",
    "            control = 1\n",
    "    if control == 0:\n",
    "        n = n+1\n",
    "        level2_shape_color.append(copy.deepcopy(example))\n",
    "\n",
    "print(n)    "
   ]
  },
  {
   "cell_type": "markdown",
   "metadata": {},
   "source": [
    "## shape + size"
   ]
  },
  {
   "cell_type": "markdown",
   "metadata": {},
   "source": [
    "### Extract only shape and size"
   ]
  },
  {
   "cell_type": "code",
   "execution_count": 25,
   "metadata": {},
   "outputs": [
    {
     "name": "stdout",
     "output_type": "stream",
     "text": [
      "192393\n"
     ]
    }
   ],
   "source": [
    "level2_shape_size = []\n",
    "\n",
    "n = 0   \n",
    "for example in original_train:\n",
    "    command_list = example['command'].split(',')\n",
    "    control = 0\n",
    "    for i in command_list:\n",
    "        if i == 'red' or i == 'green' or i == 'blue' or i == 'yellow':\n",
    "            control = 1\n",
    "    if control == 0:\n",
    "        n = n+1\n",
    "        level2_shape_size.append(copy.deepcopy(example))\n",
    "\n",
    "print(n)    "
   ]
  },
  {
   "cell_type": "markdown",
   "metadata": {},
   "source": [
    "## color + size big"
   ]
  },
  {
   "cell_type": "markdown",
   "metadata": {},
   "source": [
    "### Extract only color and size big 4"
   ]
  },
  {
   "cell_type": "code",
   "execution_count": 26,
   "metadata": {},
   "outputs": [
    {
     "name": "stdout",
     "output_type": "stream",
     "text": [
      "47014\n"
     ]
    }
   ],
   "source": [
    "level2_color_size = []\n",
    "\n",
    "n = 0   \n",
    "for example in original_train:\n",
    "    command_list = example['command'].split(',')\n",
    "    control_color = 0\n",
    "    control_size = 0\n",
    "    control = 0\n",
    "    r_size = None\n",
    "    for i in command_list:\n",
    "        if (i == 'red' or i == 'green' or i == 'blue' or i == 'yellow'):\n",
    "            control_color = 1\n",
    "        elif (i == 'big' or i == 'small'):\n",
    "            control_size = 1\n",
    "            r_size = i\n",
    "    if control_size and control_color:\n",
    "        control = 1\n",
    "        \n",
    "        t_size = example[\"situation\"][\"target_object\"][\"object\"][\"size\"]\n",
    "        t_color = example[\"situation\"][\"target_object\"][\"object\"][\"color\"]\n",
    "        \n",
    "        if r_size == 'big':\n",
    "            for i in range(int(t_size),5):\n",
    "                for key, placed_object in example[\"situation\"][\"placed_objects\"].items():\n",
    "                    if key != '0' and ( placed_object['object']['size'] == str(i) and placed_object['object']['color']== t_color):\n",
    "                        control = 0\n",
    "        elif r_size == 'small':\n",
    "            for i in range(1,int(t_size)+1):\n",
    "                for key, placed_object in example[\"situation\"][\"placed_objects\"].items():\n",
    "                    if key != '0' and ( placed_object['object']['size'] == str(i) and placed_object['object']['color']== t_color):\n",
    "                        control = 0\n",
    "        else: print('ERROR')\n",
    "            \n",
    "    if control == 1:\n",
    "        n = n+1\n",
    "        level2_color_size.append(copy.deepcopy(example))\n",
    "        \n",
    "for example in level2_color_size:\n",
    "    command_list = example['command'].split(',')\n",
    "    new_command_list = []\n",
    "    control = 0\n",
    "    for i in command_list:\n",
    "        if i == 'circle' or i == 'square' or i == 'cylinder':\n",
    "            pass\n",
    "        else:\n",
    "            new_command_list.append(i)\n",
    "        \n",
    "    new_command = ','.join(new_command_list)\n",
    "    example['command'] = new_command\n",
    "    example['meaning'] = new_command\n",
    "\n",
    "#for example in level2_color_size:\n",
    "#    print(example['command'])\n",
    "\n",
    "print(len(level2_color_size))    "
   ]
  },
  {
   "cell_type": "markdown",
   "metadata": {},
   "source": [
    "### LEVEL 2 Results"
   ]
  },
  {
   "cell_type": "code",
   "execution_count": 27,
   "metadata": {},
   "outputs": [
    {
     "name": "stdout",
     "output_type": "stream",
     "text": [
      "Original Train:   367933\n",
      "\n",
      "Level 2 total:   393232\n",
      "\tLevel 2 shape color:   153825\n",
      "\tLevel 2 shape size:   192393\n",
      "\tLevel 2 color size:   47014\n"
     ]
    }
   ],
   "source": [
    "print('Original Train:   {}'.format(len(original_train)))\n",
    "\n",
    "totalL = len(level2_color_size) + len(level2_shape_size) + len(level2_shape_color)\n",
    "print('\\nLevel 2 total:   {}'.format(totalL))\n",
    "\n",
    "print('\\tLevel 2 shape color:   {}'.format(len(level2_shape_color)))\n",
    "print('\\tLevel 2 shape size:   {}'.format(len(level2_shape_size)))\n",
    "print('\\tLevel 2 color size:   {}'.format(len(level2_color_size)))"
   ]
  },
  {
   "cell_type": "markdown",
   "metadata": {},
   "source": [
    "# Level 3"
   ]
  },
  {
   "cell_type": "markdown",
   "metadata": {},
   "source": [
    "# Extract only shape, color and size"
   ]
  },
  {
   "cell_type": "code",
   "execution_count": 28,
   "metadata": {},
   "outputs": [
    {
     "name": "stdout",
     "output_type": "stream",
     "text": [
      "102114\n"
     ]
    }
   ],
   "source": [
    "level3 = []\n",
    "   \n",
    "for example in original_train:\n",
    "    command_list = example['command'].split(',')\n",
    "    control_shape = 0\n",
    "    control_size  = 0\n",
    "    control_color = 0\n",
    "    for i in command_list:\n",
    "        if (i == 'big' or i == 'small'):\n",
    "            control_size = 1\n",
    "        elif (i == 'red' or i == 'green' or i == 'blue' or i == 'yellow'):\n",
    "            control_color = 1\n",
    "        elif (i == 'square' or i == 'circle' or i == 'cylinder'):\n",
    "            control_shape = 1\n",
    "    \n",
    "    if control_shape and control_size and control_color:\n",
    "        level3.append(copy.deepcopy(example))\n",
    "\n",
    "print(len(level3)) "
   ]
  },
  {
   "cell_type": "markdown",
   "metadata": {},
   "source": [
    "# Total Results"
   ]
  },
  {
   "cell_type": "code",
   "execution_count": 29,
   "metadata": {},
   "outputs": [
    {
     "name": "stdout",
     "output_type": "stream",
     "text": [
      "Original Train:   367933\n",
      "\n",
      "New Train:   725391\n",
      "\tLevel 1 total:   230045\n",
      "\t\tLevel 1 color:   80510\n",
      "\t\t\tLevel 1 color red:   15385\n",
      "\t\t\tLevel 1 color green:   22225\n",
      "\t\t\tLevel 1 color blue:   22471\n",
      "\t\t\tLevel 1 color yellow:   20429\n",
      "\t\tLevel 1 shape:   89340\n",
      "\t\t\tLevel 1 shape sqare:   22109\n",
      "\t\t\tLevel 1 shape circle:   33703\n",
      "\t\t\tLevel 1 shape cylinder:   33528\n",
      "\t\tLevel 1 size:   60195\n",
      "\t\t\tLevel 1 size 1 small:   24902\n",
      "\t\t\tLevel 1 size 2 small:   3842\n",
      "\t\t\tLevel 1 size 3 small:   554\n",
      "\t\t\tLevel 1 size 2 big:   621\n",
      "\t\t\tLevel 1 size 3 big:   5442\n",
      "\t\t\tLevel 1 size 4 big:   24834\n",
      "\tLevel 2 total:   393232\n",
      "\t\tLevel 2 shape color:   153825\n",
      "\t\tLevel 2 shape size:   192393\n",
      "\t\tLevel 2 color size:   47014\n",
      "\tLevel 3 total:   102114\n"
     ]
    }
   ],
   "source": [
    "\n",
    "\n",
    "colorL = len(level1_color_r)+len(level1_color_g)+len(level1_color_b)+len(level1_color_y)\n",
    "shapeL = len(level1_shape_square)+len(level1_shape_circle)+len(level1_shape_cylinder)\n",
    "sizeL = len(level1_size_1_small)+len(level1_size_2_small)+len(level1_size_3_small)+len(level1_size_2_big)+len(level1_size_3_big)+len(level1_size_4_big)\n",
    "totalL1 = colorL + shapeL + sizeL\n",
    "totalL2 = len(level2_color_size) + len(level2_shape_size) + len(level2_shape_color)\n",
    "totalL3 = len(level3)\n",
    "big_total = totalL1 + totalL2 + totalL3 \n",
    "\n",
    "print('Original Train:   {}'.format(len(original_train)))\n",
    "\n",
    "\n",
    "\n",
    "print('\\nNew Train:   {}'.format(big_total))\n",
    "\n",
    "print('\\tLevel 1 total:   {}'.format(totalL1))\n",
    "\n",
    "print('\\t\\tLevel 1 color:   {}'.format(colorL))\n",
    "print('\\t\\t\\tLevel 1 color red:   {}'.format(len(level1_color_r)))\n",
    "print('\\t\\t\\tLevel 1 color green:   {}'.format(len(level1_color_g)))\n",
    "print('\\t\\t\\tLevel 1 color blue:   {}'.format(len(level1_color_b)))\n",
    "print('\\t\\t\\tLevel 1 color yellow:   {}'.format(len(level1_color_y)))\n",
    "\n",
    "print('\\t\\tLevel 1 shape:   {}'.format(shapeL))\n",
    "print('\\t\\t\\tLevel 1 shape sqare:   {}'.format(len(level1_shape_square)))\n",
    "print('\\t\\t\\tLevel 1 shape circle:   {}'.format(len(level1_shape_circle)))\n",
    "print('\\t\\t\\tLevel 1 shape cylinder:   {}'.format(len(level1_shape_cylinder)))\n",
    "\n",
    "print('\\t\\tLevel 1 size:   {}'.format(sizeL))\n",
    "print('\\t\\t\\tLevel 1 size 1 small:   {}'.format(len(level1_size_1_small)))\n",
    "print('\\t\\t\\tLevel 1 size 2 small:   {}'.format(len(level1_size_2_small)))\n",
    "print('\\t\\t\\tLevel 1 size 3 small:   {}'.format(len(level1_size_3_small)))\n",
    "print('\\t\\t\\tLevel 1 size 2 big:   {}'.format(len(level1_size_2_big)))\n",
    "print('\\t\\t\\tLevel 1 size 3 big:   {}'.format(len(level1_size_3_big)))\n",
    "print('\\t\\t\\tLevel 1 size 4 big:   {}'.format(len(level1_size_4_big)))\n",
    "\n",
    "\n",
    "print('\\tLevel 2 total:   {}'.format(totalL2))\n",
    "\n",
    "print('\\t\\tLevel 2 shape color:   {}'.format(len(level2_shape_color)))\n",
    "print('\\t\\tLevel 2 shape size:   {}'.format(len(level2_shape_size)))\n",
    "print('\\t\\tLevel 2 color size:   {}'.format(len(level2_color_size)))\n",
    "\n",
    "print('\\tLevel 3 total:   {}'.format(totalL3))"
   ]
  },
  {
   "cell_type": "markdown",
   "metadata": {},
   "source": [
    "# Final Check"
   ]
  },
  {
   "cell_type": "code",
   "execution_count": 30,
   "metadata": {},
   "outputs": [
    {
     "name": "stdout",
     "output_type": "stream",
     "text": [
      "Examples: 15385\n",
      "Size2 Reffered as \"big\": 0\n",
      "Size2 Reffered as \"small\": 0\n",
      "Examples: 22225\n",
      "Size2 Reffered as \"big\": 0\n",
      "Size2 Reffered as \"small\": 0\n",
      "Examples: 22471\n",
      "Size2 Reffered as \"big\": 0\n",
      "Size2 Reffered as \"small\": 0\n",
      "Examples: 20429\n",
      "Size2 Reffered as \"big\": 0\n",
      "Size2 Reffered as \"small\": 0\n",
      "Examples: 22109\n",
      "Size2 Reffered as \"big\": 0\n",
      "Size2 Reffered as \"small\": 0\n",
      "Examples: 33703\n",
      "Size2 Reffered as \"big\": 0\n",
      "Size2 Reffered as \"small\": 0\n",
      "Examples: 33528\n",
      "Size2 Reffered as \"big\": 0\n",
      "Size2 Reffered as \"small\": 0\n",
      "Examples: 24902\n",
      "Size2 Reffered as \"big\": 0\n",
      "Size2 Reffered as \"small\": 0\n",
      "Examples: 3842\n",
      "Size2 Reffered as \"big\": 0\n",
      "Size2 Reffered as \"small\": 0\n",
      "Examples: 554\n",
      "Size2 Reffered as \"big\": 0\n",
      "Size2 Reffered as \"small\": 0\n",
      "Examples: 621\n",
      "Size2 Reffered as \"big\": 234\n",
      "Size2 Reffered as \"small\": 0\n",
      "Examples: 5442\n",
      "Size2 Reffered as \"big\": 0\n",
      "Size2 Reffered as \"small\": 0\n",
      "Examples: 24834\n",
      "Size2 Reffered as \"big\": 0\n",
      "Size2 Reffered as \"small\": 0\n",
      "Examples: 47014\n",
      "Size2 Reffered as \"big\": 2265\n",
      "Size2 Reffered as \"small\": 0\n",
      "Examples: 192393\n",
      "Size2 Reffered as \"big\": 7484\n",
      "Size2 Reffered as \"small\": 0\n",
      "Examples: 153825\n",
      "Size2 Reffered as \"big\": 0\n",
      "Size2 Reffered as \"small\": 0\n",
      "Examples: 102114\n",
      "Size2 Reffered as \"big\": 7495\n",
      "Size2 Reffered as \"small\": 0\n"
     ]
    }
   ],
   "source": [
    "all_datasets = [level1_color_r,level1_color_g,level1_color_b,level1_color_y,level1_shape_square,level1_shape_circle,level1_shape_cylinder,level1_size_1_small,level1_size_2_small,level1_size_3_small,level1_size_2_big,level1_size_3_big,level1_size_4_big,level2_color_size,level2_shape_size,level2_shape_color,level3]\n",
    "\n",
    "for test in all_datasets:\n",
    "    #Info \n",
    "    big = 0\n",
    "    small = 0\n",
    "    for example in test:\n",
    "        if example[\"situation\"][\"target_object\"]['object']['shape'] == 'circle':\n",
    "            if example[\"situation\"][\"target_object\"]['object']['size'] == '2':\n",
    "                if example[\"referred_target\"][0]=='b':\n",
    "                    big += 1\n",
    "                elif example[\"referred_target\"][0]=='s':\n",
    "                    small += 1\n",
    "\n",
    "    print('Examples: {}'.format(len(test)))\n",
    "    print('Size2 Reffered as \"big\": {}'.format(big))\n",
    "    print('Size2 Reffered as \"small\": {}'.format(small))"
   ]
  },
  {
   "cell_type": "markdown",
   "metadata": {},
   "source": [
    "# Saving The dataset"
   ]
  },
  {
   "cell_type": "code",
   "execution_count": 31,
   "metadata": {},
   "outputs": [],
   "source": [
    "import json\n",
    "import random"
   ]
  },
  {
   "cell_type": "code",
   "execution_count": 32,
   "metadata": {},
   "outputs": [
    {
     "name": "stdout",
     "output_type": "stream",
     "text": [
      "15385\n",
      "37610\n",
      "60081\n",
      "80510\n",
      "102619\n",
      "136322\n",
      "169850\n",
      "194752\n",
      "198594\n",
      "199148\n",
      "199769\n",
      "205211\n",
      "230045\n",
      "230045\n",
      "230045\n"
     ]
    }
   ],
   "source": [
    "all_datasets = 0\n",
    "Level_1 = level1_color_r \n",
    "print(len(Level_1))\n",
    "Level_1.extend(level1_color_g)\n",
    "print(len(Level_1))\n",
    "Level_1.extend(level1_color_b)\n",
    "print(len(Level_1))\n",
    "Level_1.extend(level1_color_y)\n",
    "print(len(Level_1))\n",
    "Level_1.extend(level1_shape_square)\n",
    "print(len(Level_1))\n",
    "Level_1.extend(level1_shape_circle)\n",
    "print(len(Level_1))\n",
    "Level_1.extend(level1_shape_cylinder)\n",
    "print(len(Level_1))\n",
    "Level_1.extend(level1_size_1_small)\n",
    "print(len(Level_1))\n",
    "Level_1.extend(level1_size_2_small)\n",
    "print(len(Level_1))\n",
    "Level_1.extend(level1_size_3_small)\n",
    "print(len(Level_1))\n",
    "Level_1.extend(level1_size_2_big)\n",
    "print(len(Level_1))\n",
    "Level_1.extend(level1_size_3_big)\n",
    "print(len(Level_1))\n",
    "Level_1.extend(level1_size_4_big)\n",
    "print(len(Level_1))\n",
    "random.shuffle(Level_1)\n",
    "print(len(Level_1))\n",
    "dataset['examples']['train'] = Level_1\n",
    "print(len(dataset['examples']['train']))\n",
    "with open('new_dataset/Level1.txt', 'w') as file:\n",
    "     file.write(json.dumps(dataset))"
   ]
  },
  {
   "cell_type": "code",
   "execution_count": 33,
   "metadata": {},
   "outputs": [
    {
     "name": "stdout",
     "output_type": "stream",
     "text": [
      "115022\n",
      "115022\n"
     ]
    }
   ],
   "source": [
    "Level_1_short = random.choices(Level_1, k=115022)\n",
    "print(len(Level_1_short))\n",
    "dataset['examples']['train'] = Level_1_short\n",
    "print(len(dataset['examples']['train']))\n",
    "with open('new_dataset/Level_1_short.txt', 'w') as file:\n",
    "     file.write(json.dumps(dataset))"
   ]
  },
  {
   "cell_type": "code",
   "execution_count": 34,
   "metadata": {},
   "outputs": [
    {
     "name": "stdout",
     "output_type": "stream",
     "text": [
      "47014\n",
      "239407\n",
      "393232\n",
      "393232\n",
      "393232\n"
     ]
    }
   ],
   "source": [
    "Level_2 = level2_color_size \n",
    "print(len(Level_2))\n",
    "Level_2.extend(level2_shape_size)\n",
    "print(len(Level_2))\n",
    "Level_2.extend(level2_shape_color)\n",
    "print(len(Level_2))\n",
    "random.shuffle(Level_2)\n",
    "print(len(Level_2))\n",
    "dataset['examples']['train'] = Level_2\n",
    "print(len(dataset['examples']['train']))\n",
    "with open('new_dataset/Level2.txt', 'w') as file:\n",
    "     file.write(json.dumps(dataset))"
   ]
  },
  {
   "cell_type": "code",
   "execution_count": 35,
   "metadata": {},
   "outputs": [
    {
     "name": "stdout",
     "output_type": "stream",
     "text": [
      "196616\n",
      "196616\n"
     ]
    }
   ],
   "source": [
    "Level_2_short = random.choices(Level_2, k=196616)\n",
    "print(len(Level_2_short))\n",
    "dataset['examples']['train'] = Level_2_short\n",
    "print(len(dataset['examples']['train']))\n",
    "with open('new_dataset/Level_2_short.txt', 'w') as file:\n",
    "     file.write(json.dumps(dataset))"
   ]
  },
  {
   "cell_type": "code",
   "execution_count": 36,
   "metadata": {},
   "outputs": [
    {
     "name": "stdout",
     "output_type": "stream",
     "text": [
      "102114\n",
      "102114\n",
      "102114\n"
     ]
    }
   ],
   "source": [
    "print(len(level3))\n",
    "random.shuffle(level3)\n",
    "print(len(level3))\n",
    "dataset['examples']['train'] = level3\n",
    "print(len(dataset['examples']['train']))\n",
    "with open('new_dataset/Level3.txt', 'w') as file:\n",
    "     file.write(json.dumps(dataset))"
   ]
  },
  {
   "cell_type": "code",
   "execution_count": 37,
   "metadata": {},
   "outputs": [
    {
     "name": "stdout",
     "output_type": "stream",
     "text": [
      "51057\n",
      "51057\n"
     ]
    }
   ],
   "source": [
    "Level_3_short = random.choices(level3, k=51057)\n",
    "print(len(Level_3_short))\n",
    "dataset['examples']['train'] = Level_3_short\n",
    "print(len(dataset['examples']['train']))\n",
    "with open('new_dataset/Level_3_short.txt', 'w') as file:\n",
    "     file.write(json.dumps(dataset))"
   ]
  },
  {
   "cell_type": "code",
   "execution_count": 38,
   "metadata": {},
   "outputs": [
    {
     "name": "stdout",
     "output_type": "stream",
     "text": [
      "230045\n",
      "623277\n",
      "623277\n",
      "623277\n"
     ]
    }
   ],
   "source": [
    "Level_1_2 = Level_1\n",
    "print(len(Level_1_2))\n",
    "Level_1_2.extend(Level_2)\n",
    "print(len(Level_1_2))\n",
    "random.shuffle(Level_1_2)\n",
    "print(len(Level_1_2))\n",
    "dataset['examples']['train'] = Level_1_2\n",
    "print(len(dataset['examples']['train']))\n",
    "with open('new_dataset/Level_1_2.txt', 'w') as file:\n",
    "     file.write(json.dumps(dataset))"
   ]
  },
  {
   "cell_type": "code",
   "execution_count": 39,
   "metadata": {},
   "outputs": [
    {
     "name": "stdout",
     "output_type": "stream",
     "text": [
      "115022\n",
      "311638\n",
      "311638\n",
      "311638\n"
     ]
    }
   ],
   "source": [
    "Level_1_2_short = Level_1_short\n",
    "print(len(Level_1_2_short))\n",
    "Level_1_2_short.extend(Level_2_short)\n",
    "print(len(Level_1_2_short))\n",
    "random.shuffle(Level_1_2_short)\n",
    "print(len(Level_1_2_short))\n",
    "dataset['examples']['train'] = Level_1_2_short\n",
    "print(len(dataset['examples']['train']))\n",
    "with open('new_dataset/Level_1_2_short.txt', 'w') as file:\n",
    "     file.write(json.dumps(dataset))"
   ]
  },
  {
   "cell_type": "code",
   "execution_count": 40,
   "metadata": {},
   "outputs": [
    {
     "name": "stdout",
     "output_type": "stream",
     "text": [
      "623277\n",
      "725391\n",
      "725391\n",
      "725391\n"
     ]
    }
   ],
   "source": [
    "new_training_set = Level_1_2\n",
    "print(len(new_training_set))\n",
    "new_training_set.extend(level3)\n",
    "print(len(new_training_set))\n",
    "random.shuffle(new_training_set)\n",
    "print(len(new_training_set))\n",
    "dataset['examples']['train'] = new_training_set\n",
    "print(len(dataset['examples']['train']))\n",
    "with open('new_dataset/new_training_set.txt', 'w') as file:\n",
    "     file.write(json.dumps(dataset))"
   ]
  },
  {
   "cell_type": "code",
   "execution_count": 41,
   "metadata": {},
   "outputs": [
    {
     "name": "stdout",
     "output_type": "stream",
     "text": [
      "311638\n",
      "362695\n",
      "362695\n",
      "362695\n"
     ]
    }
   ],
   "source": [
    "short_new_training_set = Level_1_2_short\n",
    "print(len(short_new_training_set))\n",
    "short_new_training_set.extend(Level_3_short)\n",
    "print(len(short_new_training_set))\n",
    "random.shuffle(short_new_training_set)\n",
    "print(len(short_new_training_set))\n",
    "dataset['examples']['train'] = short_new_training_set\n",
    "print(len(dataset['examples']['train']))\n",
    "with open('new_dataset/short_new_training_set.txt', 'w') as file:\n",
    "     file.write(json.dumps(dataset))"
   ]
  },
  {
   "cell_type": "code",
   "execution_count": null,
   "metadata": {},
   "outputs": [],
   "source": []
  }
 ],
 "metadata": {
  "kernelspec": {
   "display_name": "Python 3",
   "language": "python",
   "name": "python3"
  },
  "language_info": {
   "codemirror_mode": {
    "name": "ipython",
    "version": 3
   },
   "file_extension": ".py",
   "mimetype": "text/x-python",
   "name": "python",
   "nbconvert_exporter": "python",
   "pygments_lexer": "ipython3",
   "version": "3.7.7"
  }
 },
 "nbformat": 4,
 "nbformat_minor": 4
}
